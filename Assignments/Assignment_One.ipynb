{
  "nbformat": 4,
  "nbformat_minor": 0,
  "metadata": {
    "colab": {
      "provenance": []
    },
    "kernelspec": {
      "name": "python3",
      "display_name": "Python 3"
    },
    "language_info": {
      "name": "python"
    }
  },
  "cells": [
    {
      "cell_type": "code",
      "execution_count": 22,
      "metadata": {
        "colab": {
          "base_uri": "https://localhost:8080/"
        },
        "id": "nsV1uwk5Fk_O",
        "outputId": "e48c2e8c-5ceb-42b1-95dd-7bc140235161"
      },
      "outputs": [
        {
          "output_type": "stream",
          "name": "stdout",
          "text": [
            "Enter your salary :200\n",
            "Enter your service years :7\n",
            "10.0\n"
          ]
        }
      ],
      "source": [
        "from IPython.core.debugger import decorate_fn_with_doc\n",
        "#1.A company decided to give bonus of 5% to employee if his/her year of service is more than 5 years.\n",
        "#Ask user for their salary and year of service and print the net bonus amount.\n",
        "\n",
        "sal=float(input('Enter your salary :'))\n",
        "year=float(input('Enter your service years :'))\n",
        "\n",
        "if year>= 5:\n",
        "  bonus= (5/100) * sal\n",
        "  print(bonus)\n",
        "else:\n",
        "  print ('no bonus')\n",
        "\n",
        "\n"
      ]
    },
    {
      "cell_type": "code",
      "source": [
        "#Take values of length and breadth of a rectangle from user and check if it is square or not.\n",
        "\n",
        "l=float(input('Enter your length :'))\n",
        "b=float(input('Enter your breath:'))\n",
        "\n",
        "if l==b:\n",
        "  print('Square')\n",
        "else:\n",
        "  print('not a square')\n"
      ],
      "metadata": {
        "colab": {
          "base_uri": "https://localhost:8080/"
        },
        "id": "bxrH_9tTFoBo",
        "outputId": "bee32d5a-8c6b-4bf2-f063-d07cc94576ca"
      },
      "execution_count": 13,
      "outputs": [
        {
          "output_type": "stream",
          "name": "stdout",
          "text": [
            "Enter your length :4\n",
            "Enter your breath:6\n",
            "not a square\n"
          ]
        }
      ]
    },
    {
      "cell_type": "code",
      "source": [
        "#.Take two int values from user and print greatest among them.\n",
        "\n",
        "a=int(input(\"enter 1st your number :\"))\n",
        "b=int(input(\"enter 2nd your number :\"))\n",
        "if a>b :\n",
        "  print ('a is greater')\n",
        "elif b>a :\n",
        "  print ('b is greater')\n",
        "else:\n",
        "  print ('invaild')\n"
      ],
      "metadata": {
        "colab": {
          "base_uri": "https://localhost:8080/"
        },
        "id": "wsnYtNrQLqo2",
        "outputId": "d9e85ce9-20ca-4c70-f89e-484eebaa1f48"
      },
      "execution_count": 15,
      "outputs": [
        {
          "output_type": "stream",
          "name": "stdout",
          "text": [
            "enter 1st your number :4\n",
            "enter 2nd your number :7\n",
            "b is greater\n"
          ]
        }
      ]
    },
    {
      "cell_type": "code",
      "source": [
        "#A shop will give discount of 10% if the cost of purchased quantity is more than 1000.\n",
        "#Ask user for quantity\n",
        "##Judge and print total cost for user.\n",
        "\n",
        "\n",
        "q= float(input('enter your quantity :'))\n",
        "c=q*100\n",
        "if c>=1000:\n",
        "  discount=((10/100) * c)\n",
        "  total=c-discount\n",
        "  print(total)\n",
        "else:\n",
        "  print (c)\n"
      ],
      "metadata": {
        "colab": {
          "base_uri": "https://localhost:8080/"
        },
        "id": "CB-iznAGMuvO",
        "outputId": "a582cfd0-fec6-497d-e5af-973b30b1f82f"
      },
      "execution_count": 34,
      "outputs": [
        {
          "output_type": "stream",
          "name": "stdout",
          "text": [
            "enter your quantity :3\n",
            "300.0\n"
          ]
        }
      ]
    },
    {
      "cell_type": "code",
      "source": [
        "#5.A school has following rules for grading system:a. Below 25 - F\n",
        "#b. 25 to 45 - E\n",
        "#c. 45 to 50 - D\n",
        "#d. 50 to 60 - C\n",
        "#e. 60 to 80 - B\n",
        "#f. Above 80 - A\n",
        "#Ask user to enter marks and print the corresponding grade.\n",
        "\n",
        "\n",
        "marks=int(input(\"enter your marks :\"))\n",
        "if marks <= 25:\n",
        "  print (' Grade : f')\n",
        "elif marks<=25and marks<45:\n",
        "  print ('Grade e')\n",
        "elif marks<45and marks<50:\n",
        "  print('garde d')\n",
        "elif marks <= 50 and marks <60 :\n",
        "\n",
        "   print('grade c')\n",
        "\n",
        "elif marks<=60 and marks <80:\n",
        "\n",
        "    print('grade b')\n",
        "elif marks>=80:\n",
        "      print('grade a')\n"
      ],
      "metadata": {
        "colab": {
          "base_uri": "https://localhost:8080/"
        },
        "id": "UvGMxFSjPii5",
        "outputId": "e6fe98c9-eec3-4262-8085-8c7c4a21b13c"
      },
      "execution_count": 26,
      "outputs": [
        {
          "output_type": "stream",
          "name": "stdout",
          "text": [
            "enter your marks :99\n",
            "grade a\n"
          ]
        }
      ]
    },
    {
      "cell_type": "code",
      "source": [
        "#6.Take input of age of 3 people by user and determine oldest and youngest among them.\n",
        "\n",
        "a=float(input('enter 1st person age'))\n",
        "b=float(input('enter 2nd person age'))\n",
        "c=float(input('enter 3rd person age'))\n",
        "\n",
        "if a>b and a>c:\n",
        "  print('1st is oldest')\n",
        "elif b>a and b>c:\n",
        "  print('2nd is oldest')\n",
        "elif c>a and c>b:\n",
        "  print('3rd is oldest')\n",
        "\n",
        "if a<b and a<c:\n",
        "  print('1st is youngest')\n",
        "elif b<a and b<c:\n",
        "  print('2nd is youngest')\n",
        "elif c<a and c<b:\n",
        "  print('3rd is youngest')\n"
      ],
      "metadata": {
        "colab": {
          "base_uri": "https://localhost:8080/"
        },
        "id": "EBlbdvEjQn8i",
        "outputId": "64ecf27e-48ae-4f69-9ab9-d55622e8a5b7"
      },
      "execution_count": 28,
      "outputs": [
        {
          "output_type": "stream",
          "name": "stdout",
          "text": [
            "enter 1st person age12\n",
            "enter 2nd person age9\n",
            "enter 3rd person age34\n",
            "3rd is oldest\n",
            "2nd is youngest\n"
          ]
        }
      ]
    },
    {
      "cell_type": "code",
      "source": [
        "#7.Write a program to print absolute vlaue of a number entered by user. E.g.-\n",
        "#INPUT: 1        OUTPUT: 1\n",
        "#INPUT: -1        OUTPUT: 1\n",
        "\n",
        "num= float(input('enter a number'))\n",
        "\n",
        "if num<=0:\n",
        "  print('absolute value of number ',num *-1)\n",
        "else:\n",
        "  print('absoulte value of number ',num)\n"
      ],
      "metadata": {
        "colab": {
          "base_uri": "https://localhost:8080/"
        },
        "id": "pZtIKVghSHJ-",
        "outputId": "5c4a1f68-e12b-4009-c438-2ac17f4544ea"
      },
      "execution_count": 31,
      "outputs": [
        {
          "output_type": "stream",
          "name": "stdout",
          "text": [
            "enter a number-5\n",
            "absolute value of number  5.0\n"
          ]
        }
      ]
    },
    {
      "cell_type": "code",
      "source": [
        "#A student will not be allowed to sit in exam if his/her attendence is less than 75%.\n",
        "#Take following input from user\n",
        "#Number of classes held\n",
        "#Number of classes attended.\n",
        "#And print\n",
        "#percentage of class attended\n",
        "#Is student is allowed to sit in exam or not.\n",
        "\n",
        "hel= float(input('enter total classes held'))\n",
        "att= float(input('enter total classes attended'))\n",
        "\n",
        "if att<=((75/100)*hel):\n",
        "  print('not allowed sit in exam ')\n",
        "else:\n",
        "  print(' Allowed to sit in exam')"
      ],
      "metadata": {
        "colab": {
          "base_uri": "https://localhost:8080/"
        },
        "id": "RlHYiDmLTdxb",
        "outputId": "46768f35-8fab-4117-bd39-775472a0dc8e"
      },
      "execution_count": 37,
      "outputs": [
        {
          "output_type": "stream",
          "name": "stdout",
          "text": [
            "enter total classes held100\n",
            "enter total classes attended77\n",
            " Allowed to sit in exam\n"
          ]
        }
      ]
    },
    {
      "cell_type": "code",
      "source": [
        "#9.Modify the above question to allow student to sit if he/she has medical cause.\n",
        "# Ask user if he/she has medical cause or not ( 'Y' or 'N' ) and print accordingly.\n",
        "\n",
        "med= (input('Do you have a medical condition ? ')).lower()\n",
        "if med == 'y':\n",
        "  print(' allowed to sit in exam')\n",
        "if med == 'n':\n",
        "  print(' not allowed to sit')\n",
        "\n"
      ],
      "metadata": {
        "colab": {
          "base_uri": "https://localhost:8080/"
        },
        "id": "72D8Ld7SWgps",
        "outputId": "60fa6567-3932-42a7-ece4-a63c1040f37d"
      },
      "execution_count": 42,
      "outputs": [
        {
          "output_type": "stream",
          "name": "stdout",
          "text": [
            "Do you have a medical condition ? N\n",
            " not allowed to sit\n"
          ]
        }
      ]
    }
  ]
}